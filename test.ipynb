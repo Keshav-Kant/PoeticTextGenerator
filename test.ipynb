{
 "cells": [
  {
   "cell_type": "code",
   "execution_count": 79,
   "metadata": {},
   "outputs": [],
   "source": [
    "import tensorflow as tf\n",
    "import random\n",
    "import numpy as np"
   ]
  },
  {
   "cell_type": "code",
   "execution_count": 80,
   "metadata": {},
   "outputs": [],
   "source": [
    "filepath = tf.keras.utils.get_file('shakespeare.txt','https://storage.googleapis.com/download.tensorflow.org/data/shakespeare.txt')\n",
    "text = open(filepath,'rb').read().decode(encoding='utf-8').lower()"
   ]
  },
  {
   "cell_type": "code",
   "execution_count": 81,
   "metadata": {},
   "outputs": [],
   "source": [
    "text = text[300000:800000]\n",
    "characters = sorted(set(text))\n",
    "char_to_index = dict((c, i) for i, c in enumerate(characters))\n",
    "\n",
    "index_to_char = dict((i, c) for i, c in enumerate(characters))"
   ]
  },
  {
   "cell_type": "code",
   "execution_count": 82,
   "metadata": {},
   "outputs": [],
   "source": [
    "SEQ_LENGTH = 40\n",
    "STEP_SIZE = 3\n"
   ]
  },
  {
   "cell_type": "code",
   "execution_count": 83,
   "metadata": {},
   "outputs": [
    {
     "name": "stderr",
     "output_type": "stream",
     "text": [
      "WARNING:absl:Compiled the loaded model, but the compiled metrics have yet to be built. `model.compile_metrics` will be empty until you train or evaluate the model.\n"
     ]
    }
   ],
   "source": [
    "model = tf.keras.models.load_model('textgenerator.h5')"
   ]
  },
  {
   "cell_type": "code",
   "execution_count": 84,
   "metadata": {},
   "outputs": [],
   "source": [
    "def sample(preds, temperature=1.0):\n",
    "    preds = np.asarray(preds).astype('float64')\n",
    "    preds = np.log(preds) / temperature\n",
    "    exp_preds = np.exp(preds)\n",
    "    preds = exp_preds / np.sum(exp_preds)\n",
    "    probas = np.random.multinomial(1,preds, 1)\n",
    "    return np.argmax(probas)\n"
   ]
  },
  {
   "cell_type": "code",
   "execution_count": 85,
   "metadata": {},
   "outputs": [],
   "source": [
    "def generate_text(length,temperature):\n",
    "    start_index = random.randint(0, len(text) - SEQ_LENGTH - 1)\n",
    "    generated = ''\n",
    "    sentence = text[start_index:start_index + SEQ_LENGTH]\n",
    "    generated += sentence\n",
    "\n",
    "    for i in range(length):\n",
    "        x = np.zeros((1,SEQ_LENGTH , len(characters)))\n",
    "        for t, character in enumerate(sentence):\n",
    "            x[0, t, char_to_index[character]] = 1\n",
    "        \n",
    "        predictions = model.predict(x,verbose=0)[0]\n",
    "        next_index = sample(predictions,temperature)\n",
    "        next_character = index_to_char[next_index]\n",
    "\n",
    "        generated += next_character\n",
    "        sentence = sentence[1:] + next_character\n",
    "    return generated"
   ]
  },
  {
   "cell_type": "code",
   "execution_count": 86,
   "metadata": {},
   "outputs": [
    {
     "name": "stdout",
     "output_type": "stream",
     "text": [
      "-------------0.2-----------\n",
      "d:\n",
      "march sadly after; grace my mournings.\n",
      "\n",
      "king richard ii:\n",
      "we will be so much and them and the beat thee,\n",
      "and thou shalt say the france in the world,\n",
      "that he with the field of the world that her.\n",
      "\n",
      "duke of york:\n",
      "the heavy more than the boyaly,\n",
      "and then and the good shall be the service.\n",
      "\n",
      "henry bolingbroke:\n",
      "of the worsery heavy of the worl\n",
      "-------------0.4-----------\n",
      "ter,\n",
      "and what to her adheres, which follows\n",
      "that thou shoundsting thee is the boy.\n",
      "\n",
      "duchess of york:\n",
      "what is the fooliss die for him unto thy earth,\n",
      "and we be a marriage and rose of good chail\n",
      "or that had no fortune of the world between.\n",
      "\n",
      "second worseo:\n",
      "what is the beddards of fear of them well.\n",
      "\n",
      "friar laurence:\n",
      "i cannot interming more th\n",
      "-------------0.6-----------\n",
      " very true, my grief lies all within;\n",
      "and whom i regall that we have all to thind\n",
      "the county: i have all the counsels out.\n",
      "\n",
      "juliet:\n",
      "young true dean, i have not duked bones,\n",
      "and which i am not this friends and things,\n",
      "for sit of many marnice that sould thing\n",
      "without seem on my wings for that feigned\n",
      "with himself that ry them are so betwxt.\n",
      "-------------0.8-----------\n",
      " a woman's war,\n",
      "the bitter clamour of twenty him.\n",
      "\n",
      "domen rois:\n",
      "the ears this bed, make her becomes and were\n",
      "thy cheek to at his gaid;\n",
      "then redo the budfies winding follower,\n",
      "and rich have in thy true slain up old bled\n",
      "an harchy marriage of them beginst to citge,\n",
      "for what bac neat of landed to speak rea;\n",
      "wertal them is a most former it of \n",
      "-------------1.0-----------\n",
      "ears, and break o'ercharged with grief.\n",
      "now were a villain the banishmdest them.\n",
      "think to parce it plant do not loss strinks.\n",
      "there, thousands dill doth well and your misser.\n",
      "\n",
      "northu lird bushas:\n",
      "thy mornied up freel'd with thy couplet,\n",
      "yeanty than all our sare warm, sirs.\n",
      "or i shall be the boldness\n",
      "that to sab wonl, o, the tress: at with\n"
     ]
    }
   ],
   "source": [
    "print(\"-------------0.2-----------\")\n",
    "print(generate_text(300, 0.2))\n",
    "print(\"-------------0.4-----------\")\n",
    "print(generate_text(300, 0.4))\n",
    "print(\"-------------0.6-----------\")\n",
    "print(generate_text(300, 0.6))\n",
    "print(\"-------------0.8-----------\")\n",
    "print(generate_text(300, 0.8))\n",
    "print(\"-------------1.0-----------\")\n",
    "print(generate_text(300, 1.0))"
   ]
  }
 ],
 "metadata": {
  "kernelspec": {
   "display_name": "venv",
   "language": "python",
   "name": "python3"
  },
  "language_info": {
   "codemirror_mode": {
    "name": "ipython",
    "version": 3
   },
   "file_extension": ".py",
   "mimetype": "text/x-python",
   "name": "python",
   "nbconvert_exporter": "python",
   "pygments_lexer": "ipython3",
   "version": "3.12.5"
  }
 },
 "nbformat": 4,
 "nbformat_minor": 2
}
